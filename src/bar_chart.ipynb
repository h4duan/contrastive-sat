{
 "cells": [
  {
   "cell_type": "markdown",
   "metadata": {
    "toc": true
   },
   "source": [
    "<h1>Table of Contents<span class=\"tocSkip\"></span></h1>\n",
    "<div class=\"toc\"><ul class=\"toc-item\"></ul></div>"
   ]
  },
  {
   "cell_type": "code",
   "execution_count": 1,
   "metadata": {},
   "outputs": [],
   "source": [
    "import matplotlib as mpl\n",
    "import matplotlib.pyplot as plt\n",
    "import numpy as np\n",
    "\n",
    "import matplotlib.ticker as mtick\n",
    "from matplotlib.patches import Patch"
   ]
  },
  {
   "cell_type": "code",
   "execution_count": 2,
   "metadata": {},
   "outputs": [],
   "source": [
    "# modify global setting\n",
    "mpl.rcParams['pdf.fonttype'] = 42\n",
    "mpl.rcParams['ps.fonttype'] = 42\n",
    "# mpl.rcParams['font.family'] = 'Arial'"
   ]
  },
  {
   "cell_type": "code",
   "execution_count": 3,
   "metadata": {},
   "outputs": [],
   "source": [
    "plt.rcParams.update({'font.size': 12})\n",
    "colors = ['#EDB732', '#DA4C4C', '#7A1255']"
   ]
  },
  {
   "cell_type": "code",
   "execution_count": 4,
   "metadata": {},
   "outputs": [
    {
     "name": "stderr",
     "output_type": "stream",
     "text": [
      "/Users/Haddock/.virtualenvs/rep4co/lib/python3.7/site-packages/ipykernel_launcher.py:9: UserWarning: FixedFormatter should only be used together with FixedLocator\n",
      "  if __name__ == '__main__':\n"
     ]
    },
    {
     "data": {
      "image/png": "[encoded data removed]",
      "text/plain": [
       "<Figure size 432x288 with 1 Axes>"
      ]
     },
     "metadata": {
      "needs_background": "light"
     },
     "output_type": "display_data"
    }
   ],
   "source": [
    "fig, ax = plt.subplots()\n",
    "plt.rcParams[\"figure.figsize\"] = (4, 3)\n",
    "label = [\"\", \"SR\", \"PR\", \"DP\", \"PS\"]\n",
    "x = np.arange(4)\n",
    "resolution = [86.44, 92.67, 84.79, 96.93]\n",
    "random = [55.67, 52.87, 64.76, 68.93]\n",
    "ax.bar(x, resolution, 0.2, label='Resolution', color = colors[0])\n",
    "ax.bar(x+0.2, random, 0.2, label='Random', color = colors[2])\n",
    "ax.set_xticklabels(label)\n",
    "ax.grid(linestyle='--', axis='y')\n",
    "ax.legend(loc = \"lower center\", ncol=1, fontsize=12, framealpha=1)\n",
    "# ax.set_ylabel(\"Linear evaluation accuracy\")\n",
    "plt.savefig(\"random_resolution.pdf\", bbox_inches='tight')\n",
    "plt.show()"
   ]
  },
  {
   "cell_type": "code",
   "execution_count": null,
   "metadata": {},
   "outputs": [],
   "source": []
  },
  {
   "cell_type": "code",
   "execution_count": 13,
   "metadata": {},
   "outputs": [
    {
     "data": {
      "image/png": "[encoded data removed]",
      "text/plain": [
       "<Figure size 288x180 with 1 Axes>"
      ]
     },
     "metadata": {
      "needs_background": "light"
     },
     "output_type": "display_data"
    }
   ],
   "source": [
    "import matplotlib.pyplot as plt\n",
    "from matplotlib.patches import Patch\n",
    "plt.rcParams.update({'font.size': 15})\n",
    "plt.rcParams[\"figure.figsize\"] = (4, 2.5)\n",
    "\n",
    "colors = ['#5387DD', '#5387DD', '#DA4C4C']\n",
    "\n",
    "fig = plt.figure()\n",
    "ax = fig.add_axes([0,0,1 ,1])\n",
    "langs = ['AU', 'CR', 'SC', 'DC', 'DV', 'LP', 'SG']\n",
    "#students = [-1, -10, 0, 0, 0, 0, 10]\n",
    "students = [-1.56, 0.78, 1.23, 57.78 - 92.21, 59.78-92.21, 58.44-92.21, 56.22-92.21]\n",
    "ax.barh(langs,students, color=[colors[0], colors[0], colors[0], colors[2], colors[2], colors[2], colors[2]], height=0.6)\n",
    "objects = [\"LPA\", \"LAA\"]\n",
    "patches = [Patch(color=colors[0], label='SSP'), Patch(color=colors[2], label='NSSP')]\n",
    "plt.legend(labels=objects, handles=patches, loc='best', fontsize=15, framealpha=1)\n",
    "# plt.xlabel(\"Linear evaluation accuracy\")\n",
    "ax.grid(linestyle='--', axis='x')\n",
    "plt.savefig(\"ssp.pdf\", bbox_inches='tight')\n",
    "plt.show()"
   ]
  },
  {
   "cell_type": "code",
   "execution_count": null,
   "metadata": {},
   "outputs": [],
   "source": [
    "list(datasets.keys())"
   ]
  },
  {
   "cell_type": "code",
   "execution_count": null,
   "metadata": {},
   "outputs": [],
   "source": [
    "plt.rcParams[\"figure.figsize\"] = (6, 8)\n",
    "mpl.rcParams['axes.spines.left'] = False\n",
    "mpl.rcParams['axes.spines.right'] = False\n",
    "mpl.rcParams['axes.spines.top'] = False\n",
    "plt.rcParams.update({'font.size': 15})"
   ]
  },
  {
   "cell_type": "code",
   "execution_count": null,
   "metadata": {},
   "outputs": [],
   "source": [
    "n_groups = 4\n",
    "\n",
    "data = np.array([[90.81, 83.76, 79.94, 94.30],\n",
    "                [75.38, 92.34, 84.20, 98.07],\n",
    "                [54.71, 62.85, 83.34, 81.53],\n",
    "                [61.38, 77.63, 82.96, 89.56]]).T\n",
    "min_1 = [50.15, 54.56, 60.27, 59.78]\n",
    "max_1 = [91.72, 96.00, 95.65, 95.62]\n",
    "\n",
    "data2 = np.array([[63.74, 77.06, 85.29, 83.25],\n",
    "                [57.85, 68.38, 84.30, 79.72],\n",
    "                [52.81, 59.54, 66.57, 74.67],\n",
    "                [50.37, 62.67, 78.04, 79.71]]).T\n",
    "min_2 = [49.87, 56.23, 57.81, 60.03]\n",
    "max_2 = [51.25, 71.38, 92.37, 91.87]\n",
    "\n",
    "# datasets = ['SR(10)', 'PR(10)', 'DP(20)', 'PS(20)']\n",
    "# colors = ['#EDB732', '#DA4C4C', '#7A1255', '#000000']\n",
    "\n",
    "datasets = {'SR(10)': '#EDB732', 'PR(10)': '#DA4C4C', 'DP(20)': '#7A1255', 'PS(20)': '#000000'}\n",
    "datasets2 = ['SR(40)', 'PR(40)', 'DP(40)', 'PS(40)']\n",
    "\n",
    "# create plot\n",
    "fig, axs = plt.subplots(4, 2, sharex=True, sharey=True)\n",
    "index = np.arange(n_groups)\n",
    "bar_width = 1\n",
    "opacity = 1\n",
    "\n",
    "min_color = 'red'\n",
    "max_color = '#5387DD'\n",
    "\n",
    "for i, target in enumerate(data):\n",
    "    ds = list(datasets.keys())\n",
    "    ax = axs[i][0]\n",
    "    the_bars = ax.bar(ds, target, width=bar_width, alpha=opacity, color=datasets.values(), label=ds)\n",
    "    ax.tick_params(axis='x', labelrotation = 45)\n",
    "    ax.set_xlabel(ds[i])\n",
    "    ax.set_ylim(48, 100)\n",
    "    \n",
    "    ax.plot(range(-1, 5), [min_1[i]]*6, \"--\", color=min_color)\n",
    "    ax.text(x=4.5, y=min_1[i]-2, s=f\"{min_1[i]:.1f}\", c=min_color, size=14, ha='center')\n",
    "    ax.plot(range(-1, 5), [max_1[i]]*6, \"--\", color=max_color)\n",
    "    ax.text(x=4.5, y=max_1[i]-2, s=f\"{max_1[i]:.1f}\", c=max_color, size=14, ha='center')\n",
    "    \n",
    "    for bar_i, bar in enumerate(the_bars):\n",
    "        height = bar.get_height()\n",
    "        \n",
    "        if (height < max_1[i] < height + 14):\n",
    "            ax.text(x=bar.get_x() + bar.get_width() / 2, y=height-10, s=f\"{height:.1f}\", c='white', size=14, ha='center')\n",
    "        else:\n",
    "            ax.text(x=bar.get_x() + bar.get_width() / 2, y=height+1, s=f\"{height:.1f}\", c='black', size=14, ha='center')\n",
    "        \n",
    "        if i == bar_i:\n",
    "            ax.text(x=bar.get_x() + bar.get_width() / 2, y=42, s=chr(9830), c='white', size=14, ha='center')\n",
    "    \n",
    "        \n",
    "for i, target in enumerate(data2):\n",
    "    ds = list(datasets.keys())\n",
    "    ax = axs[i][1]\n",
    "    the_bars = ax.bar(ds, target, width=bar_width, alpha=opacity, color=datasets.values(), label=ds)\n",
    "    ax.tick_params(axis='x', labelrotation = 45)\n",
    "    ax.set_xlabel(datasets2[i])\n",
    "    ax.set_ylim(40, 100)\n",
    "    \n",
    "    min_d, max_d = 2, 2\n",
    "    if (max_2[i] - min_2[i] < 10):\n",
    "        min_d, max_d = 6, -1\n",
    "    \n",
    "    ax.plot(range(-1, 5), [min_2[i]]*6, \"--\", color=min_color)\n",
    "    ax.text(x=4.5, y=min_2[i]-min_d, s=f\"{min_2[i]:.1f}\", c=min_color, size=14, ha='center')\n",
    "    ax.plot(range(-1, 5), [max_2[i]]*6, \"--\", color=max_color)\n",
    "    ax.text(x=4.5, y=max_2[i]-max_d, s=f\"{max_2[i]:.1f}\", c=max_color, size=14, ha='center')\n",
    "    \n",
    "    for bar in the_bars:\n",
    "        height = bar.get_height()\n",
    "        \n",
    "        if (height < max_2[i] < height + 14):\n",
    "            ax.text(x=bar.get_x() + bar.get_width() / 2, y=height-10, s=f\"{height:.1f}\", c='white', size=14, ha='center')\n",
    "        else:\n",
    "            ax.text(x=bar.get_x() + bar.get_width() / 2, y=height+1, s=f\"{height:.1f}\", c='black', size=14, ha='center')\n",
    "\n",
    "        \n",
    "\n",
    "labels = list(datasets.keys())\n",
    "handles = [plt.Rectangle((0,0),0.2,0.2, color=datasets[label]) for label in labels]\n",
    "# handles, labels = axs[1][1].get_legend_handles_labels()\n",
    "# plt.legend(handles, labels, ncol=4, loc=\"lower center\")\n",
    "fig.legend(handles, labels, loc=\"lower center\", ncol=4, bbox_to_anchor=(0.5, -.05), fontsize=15, columnspacing=1, handletextpad=0.1) \n",
    "\n",
    "# plt.subplots_adjust(left=0, bottom=None, right=1, top=None, wspace=0, hspace=0)\n",
    "plt.gca().yaxis.set_major_locator(plt.NullLocator())\n",
    "plt.gca().xaxis.set_major_locator(plt.NullLocator())\n",
    "plt.tight_layout()\n",
    "plt.savefig(\"extrapolation.pdf\", bbox_inches='tight')\n",
    "plt.show()"
   ]
  },
  {
   "cell_type": "code",
   "execution_count": null,
   "metadata": {},
   "outputs": [],
   "source": [
    "plt.rcParams[\"figure.figsize\"] = (7, 7)\n",
    "mpl.rcParams['axes.spines.left'] = False\n",
    "mpl.rcParams['axes.spines.right'] = False\n",
    "mpl.rcParams['axes.spines.top'] = False\n",
    "plt.rcParams.update({'font.size': 15})\n",
    "mpl.rcParams['hatch.linewidth'] = 2  # previous pdf hatch linewidth"
   ]
  },
  {
   "cell_type": "code",
   "execution_count": null,
   "metadata": {
    "scrolled": false
   },
   "outputs": [],
   "source": [
    "n_groups = 4\n",
    "\n",
    "data = np.array([[76.63, 73.71],\n",
    "                [70.81, 72.67],\n",
    "                [61.25, 50.54],\n",
    "                [62.02, 53.13]]).T\n",
    "# min_1 = [50.15, 54.56, 60.27, 59.78]\n",
    "# max_1 = [91.72, 96.00, 95.65, 95.62]\n",
    "\n",
    "data2 = np.array([[85.43, 78.28],\n",
    "                [81.58, 64.69],\n",
    "                [58.79, 57.07],\n",
    "                [70.17, 66.64]]).T\n",
    "\n",
    "datasets = {'SR(10)': '#EDB732', 'PR(10)': '#DA4C4C', 'DP(20)': '#7A1255', 'PS(20)': '#000000'}\n",
    "target_ds = ['UR(40)', 'CA(40)']\n",
    "\n",
    "# create plot\n",
    "fig, axs = plt.subplots(2, 1, sharex=True, sharey=True)\n",
    "index = np.arange(n_groups)\n",
    "bar_width = 0.45\n",
    "opacity = 1\n",
    "\n",
    "font_size = 22\n",
    "\n",
    "min_color = 'red'\n",
    "max_color = '#5387DD'\n",
    "\n",
    "def plot_bar(i, target, max_val):\n",
    "    ds = np.arange(-1, len(datasets)-1)\n",
    "    ax = axs[i]\n",
    "    the_bars_ssl = ax.bar(ds - bar_width / 2, target[0], width=bar_width, lw=0, alpha=opacity, color=datasets.values(), label=ds)\n",
    "    the_bars_sup = ax.bar(ds + bar_width / 2, target[1], width=bar_width, lw=0, hatch='//', edgecolor='white', alpha=opacity, color=datasets.values(), label=ds)\n",
    "    ax.tick_params(axis='x', labelrotation = 45)\n",
    "#     ax.set_xlabel(target_ds[i])\n",
    "#     ax.set_xticks(ds, labels=['G1', 'G2', 'G3', 'G4', 'G5'])\n",
    "    ax.set_ylim(48, 100)\n",
    "    \n",
    "#     ax.plot(range(-1, 5), [min_1[i]]*6, \"--\", color=min_color)\n",
    "#     ax.text(x=4.5, y=min_1[i]-2, s=f\"{min_1[i]:.1f}\", c=min_color, size=font_size, ha='center')\n",
    "    ax.plot([-1.5, 2.5], [max_val]*2, \"--\", color=max_color)\n",
    "    ax.text(x=2.3, y=max_val-5, s=f\"{max_val:.1f}\", c=max_color, size=font_size, ha='center')\n",
    "    \n",
    "    for bar_i, bar in enumerate(the_bars_ssl + the_bars_sup):\n",
    "        height = bar.get_height()\n",
    "        \n",
    "#         if (height < max_val < height + 14):\n",
    "#             ax.text(x=bar.get_x() + bar.get_width() / 2, y=height-10, s=f\"{height:.1f}\", c='white', size=font_size, ha='center')\n",
    "#         else:\n",
    "        ax.text(x=bar.get_x() + bar.get_width() / 2, y=height+1, s=f\"{height:.1f}\", c='black', size=font_size, ha='center')\n",
    "    \n",
    "        \n",
    "plot_bar(0, data, 74.28)\n",
    "plot_bar(1, data2, 92.15)\n",
    "labels = list(datasets.keys())\n",
    "handles = [plt.Rectangle((0,0),0.2,0.2, color=datasets[label]) for label in labels]\n",
    "# handles, labels = axs[1][1].get_legend_handles_labels()\n",
    "# plt.legend(handles, labels, ncol=4, loc=\"lower center\")\n",
    "# fig.legend(handles, labels, loc=\"lower center\", ncol=4, bbox_to_anchor=(0.5, -.07), fontsize=14, columnspacing=1, handletextpad=0.1) \n",
    "\n",
    "# plt.subplots_adjust(left=0, bottom=None, right=1, top=None, wspace=0, hspace=0)\n",
    "plt.gca().yaxis.set_major_locator(plt.NullLocator())\n",
    "plt.gca().xaxis.set_major_locator(plt.NullLocator())\n",
    "plt.tight_layout()\n",
    "plt.savefig(\"extrapolation_main.pdf\", bbox_inches='tight')\n",
    "plt.show()"
   ]
  },
  {
   "cell_type": "code",
   "execution_count": null,
   "metadata": {},
   "outputs": [],
   "source": []
  }
 ],
 "metadata": {
  "kernelspec": {
   "display_name": "Python 3 (ipykernel)",
   "language": "python",
   "name": "python3"
  },
  "language_info": {
   "codemirror_mode": {
    "name": "ipython",
    "version": 3
   },
   "file_extension": ".py",
   "mimetype": "text/x-python",
   "name": "python",
   "nbconvert_exporter": "python",
   "pygments_lexer": "ipython3",
   "version": "3.7.0"
  },
  "toc": {
   "base_numbering": 1,
   "nav_menu": {},
   "number_sections": true,
   "sideBar": true,
   "skip_h1_title": false,
   "title_cell": "Table of Contents",
   "title_sidebar": "Contents",
   "toc_cell": true,
   "toc_position": {},
   "toc_section_display": true,
   "toc_window_display": false
  }
 },
 "nbformat": 4,
 "nbformat_minor": 4
}
